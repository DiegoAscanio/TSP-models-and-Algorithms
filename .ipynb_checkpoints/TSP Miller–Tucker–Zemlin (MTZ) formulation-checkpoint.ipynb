{
 "cells": [
  {
   "cell_type": "markdown",
   "id": "a8e032e4",
   "metadata": {},
   "source": [
    "##  TSP Miller–Tucker–Zemlin (MTZ) formulation"
   ]
  },
  {
   "cell_type": "markdown",
   "id": "e3d99602",
   "metadata": {},
   "source": [
    "##### Keywords:  TSP, MTZ, Miller–Tucker–Zemlin, Subtours, Linear Programming, Cplex, Python, Networkx, Docplex"
   ]
  },
  {
   "cell_type": "markdown",
   "id": "336e950c",
   "metadata": {},
   "source": [
    "$ \\text{Variables} $\n",
    "\n",
    "$x_{ij}={\\begin{cases}1&{\\text{the path goes from city }}i{\\text{ to city }}j\\\\0&{\\text{otherwise}}\\end{cases}}$\n",
    "\n",
    "$u_{i}=\\text{keeps track of the order in which the cities are visited, counting from city 1 the interpretation is that $u_{i}$ < $u_{j}$ implies city i}\\\\ \\quad ~~~~\\text{is visited before city j}$"
   ]
  },
  {
   "cell_type": "markdown",
   "id": "0e73bfe6",
   "metadata": {},
   "source": [
    "\\begin{equation*}\n",
    "\\begin{aligned}\n",
    "& \\underset{}{\\text{Minimize}}\n",
    "& & \\sum_{i=1}^{n} \\sum_{j=1, j\\neq i}^{n} c_{ij} x_{ij} \\\\\n",
    "& \\text{Subject to}\n",
    "& & \\sum_{j=1, j\\neq i}^{n} x_{ij} = 1, \\quad i = 1,\\ldots,n, \\\\\n",
    "& \n",
    "& & \\sum_{i=1, i\\neq j}^{n} x_{ij} = 1, \\quad j = 1,\\ldots,n, \\\\\n",
    "& \n",
    "& & u_{i} - u_{j} + n x_{ij} \\leq n - 1, \\quad 2 \\leq i \\neq j \\leq n.\\\\\n",
    "&\n",
    "& & x_{ij} \\in \\{0,1\\}, \\quad i,j = 1,\\ldots,n, \\, i\\neq j, \\\\\n",
    "&\n",
    "& & u_{i} \\in \\mathbf {Z}, \\quad i=2,\\ldots ,n.\n",
    "\\end{aligned}\n",
    "\\end{equation*}\n"
   ]
  },
  {
   "cell_type": "markdown",
   "id": "ed021c09",
   "metadata": {},
   "source": [
    "#### Import Library and Model Enviroment"
   ]
  },
  {
   "cell_type": "code",
   "execution_count": 5,
   "id": "be618bc2",
   "metadata": {},
   "outputs": [],
   "source": [
    "from docplex.mp.model import Model\n",
    "import networkx as nx   \n",
    "import numpy as np\n",
    "import matplotlib.pyplot as plt\n",
    "mdl=Model('MTZ')"
   ]
  },
  {
   "cell_type": "markdown",
   "id": "5b44ea20",
   "metadata": {},
   "source": [
    "#### Function to Visualize the Traveling Salesman Problem (TSP) Graphically"
   ]
  },
  {
   "cell_type": "code",
   "execution_count": 6,
   "id": "8f526ad6",
   "metadata": {},
   "outputs": [],
   "source": [
    "def graphic(x, d, N):\n",
    "    \"\"\"\n",
    "    Function to visualize the Traveling Salesman Problem (TSP) graphically.\n",
    "\n",
    "    Parameters:\n",
    "        x (numpy.ndarray): Distance matrix representing the pairwise distances between cities.\n",
    "        d (list): List of cities with their corresponding distances.\n",
    "        N (range): Range object representing the number of cities.\n",
    "\n",
    "    Returns:\n",
    "        None\n",
    "    \"\"\"\n",
    "\n",
    "    edges = []\n",
    "    for i in N:\n",
    "        for j in N:\n",
    "            if i != j and x[i, j] > 0.5:  # This is a tolerance value, it can be adjusted as needed\n",
    "                edges.append((i, j, d[i - 1][j - 1]))\n",
    "\n",
    "    G = nx.Graph()\n",
    "    for edge in edges:\n",
    "        G.add_edge(edge[0], edge[1], weight=edge[2])\n",
    "\n",
    "    plt.figure(figsize=(10, 10))\n",
    "    pos = nx.spring_layout(G)\n",
    "    nx.draw(G, pos, with_labels=True)\n",
    "    labels = nx.get_edge_attributes(G, 'weight')\n",
    "    nx.draw_networkx_edge_labels(G, pos, edge_labels=labels)\n",
    "    plt.show()\n"
   ]
  },
  {
   "cell_type": "markdown",
   "id": "96dc0b10",
   "metadata": {},
   "source": [
    "#### Create the Matrix of Distances"
   ]
  },
  {
   "cell_type": "code",
   "execution_count": 7,
   "id": "b6db83f8",
   "metadata": {},
   "outputs": [],
   "source": [
    "#Create a Random Matrix\n",
    "C = np.random.randint(1, 100, size=(50, 50))\n",
    "# A_i,i = 0\n",
    "np.fill_diagonal(C, 0)"
   ]
  },
  {
   "cell_type": "markdown",
   "id": "6a3580aa",
   "metadata": {},
   "source": [
    "#### Parameters"
   ]
  },
  {
   "cell_type": "code",
   "execution_count": 8,
   "id": "c91a8114",
   "metadata": {},
   "outputs": [],
   "source": [
    "n=len(C)"
   ]
  },
  {
   "cell_type": "markdown",
   "id": "64125109",
   "metadata": {},
   "source": [
    "#### Sets"
   ]
  },
  {
   "cell_type": "code",
   "execution_count": 11,
   "id": "0d76d9b3",
   "metadata": {},
   "outputs": [],
   "source": [
    "N=[i+1 for i in range(n)]"
   ]
  },
  {
   "cell_type": "markdown",
   "id": "a6039343",
   "metadata": {},
   "source": [
    "#### Index"
   ]
  },
  {
   "cell_type": "code",
   "execution_count": 12,
   "id": "0502fcb2",
   "metadata": {},
   "outputs": [],
   "source": [
    "Ind={(i,j) for i in N for j in N if i!=j}\n",
    "Ind2={(i) for i in N if i!=1}"
   ]
  },
  {
   "cell_type": "markdown",
   "id": "8d3959c0",
   "metadata": {},
   "source": [
    "#### Variables"
   ]
  },
  {
   "cell_type": "code",
   "execution_count": 13,
   "id": "36faf360",
   "metadata": {},
   "outputs": [],
   "source": [
    "x=mdl.binary_var_dict(Ind, name='x')\n",
    "u=mdl.integer_var_dict(Ind2, name='u')"
   ]
  },
  {
   "cell_type": "markdown",
   "id": "6f257948",
   "metadata": {},
   "source": [
    "#### Mathematical Model of Travelling Salesman Problem MTZ (TSP MTZ)"
   ]
  },
  {
   "cell_type": "markdown",
   "id": "19a7e352",
   "metadata": {},
   "source": [
    "#### Objective Function"
   ]
  },
  {
   "cell_type": "code",
   "execution_count": 14,
   "id": "c08114b2",
   "metadata": {},
   "outputs": [],
   "source": [
    "mdl.minimize(mdl.sum(x[i,j]*C[i-1][j-1] for i in N for j in N if i!=j))"
   ]
  },
  {
   "cell_type": "markdown",
   "id": "b50f6035",
   "metadata": {},
   "source": [
    "#### Subject to:"
   ]
  },
  {
   "cell_type": "code",
   "execution_count": 10,
   "id": "ae1417c2",
   "metadata": {
    "scrolled": true
   },
   "outputs": [],
   "source": [
    "for i in N:\n",
    "    mdl.add_constraint(mdl.sum(x[i,j] for j in N if i!=j)==1)"
   ]
  },
  {
   "cell_type": "code",
   "execution_count": 11,
   "id": "f9cd0a5b",
   "metadata": {},
   "outputs": [],
   "source": [
    "for j in N:\n",
    "    mdl.add_constraint(mdl.sum(x[i,j] for i in N if i!=j)==1)"
   ]
  },
  {
   "cell_type": "code",
   "execution_count": 12,
   "id": "deed687d",
   "metadata": {},
   "outputs": [],
   "source": [
    "for i in range(2,n+1):\n",
    "    for j in range(2,n+1):\n",
    "        if i!=j:\n",
    "            if i!=1:\n",
    "                mdl.add_constraint(u[i]-u[j]+(n-1)*x[i,j]<=(n-2))"
   ]
  },
  {
   "cell_type": "markdown",
   "id": "94b0d26e",
   "metadata": {},
   "source": [
    "#### Solve the Traveling Salesman Problem MTZ"
   ]
  },
  {
   "cell_type": "code",
   "execution_count": 13,
   "id": "fb989c70",
   "metadata": {
    "scrolled": false
   },
   "outputs": [
    {
     "name": "stdout",
     "output_type": "stream",
     "text": [
      "Version identifier: 12.10.0.0 | 2019-11-26 | 843d4de2ae\n",
      "CPXPARAM_Read_DataCheck                          1\n",
      "CPXPARAM_RandomSeed                              201903125\n",
      "Tried aggregator 1 time.\n",
      "Reduced MIP has 2452 rows, 2499 columns, and 11956 nonzeros.\n",
      "Reduced MIP has 2450 binaries, 49 generals, 0 SOSs, and 0 indicators.\n",
      "Presolve time = 0.02 sec. (5.66 ticks)\n",
      "Probing time = 0.02 sec. (3.29 ticks)\n",
      "Tried aggregator 1 time.\n",
      "Detecting symmetries...\n",
      "Reduced MIP has 2452 rows, 2499 columns, and 11956 nonzeros.\n",
      "Reduced MIP has 2450 binaries, 49 generals, 0 SOSs, and 0 indicators.\n",
      "Presolve time = 0.02 sec. (7.76 ticks)\n",
      "Probing time = 0.02 sec. (3.29 ticks)\n",
      "Clique table members: 1219.\n",
      "MIP emphasis: balance optimality and feasibility.\n",
      "MIP search method: dynamic search.\n",
      "Parallel mode: deterministic, using up to 8 threads.\n",
      "Root relaxation solution time = 0.02 sec. (8.30 ticks)\n",
      "\n",
      "        Nodes                                         Cuts/\n",
      "   Node  Left     Objective  IInf  Best Integer    Best Bound    ItCnt     Gap\n",
      "\n",
      "      0     0      163.4082    31                    163.4082      111         \n",
      "      0     0      165.2721    31                    Cuts: 41      156         \n",
      "*     0+    0                          172.0000      165.2721             3.91%\n",
      "      0     0      166.2245    31      172.0000      Cuts: 20      197    3.36%\n",
      "Detecting symmetries...\n",
      "\n",
      "Repeating presolve.\n",
      "Tried aggregator 2 times.\n",
      "MIP Presolve eliminated 2 rows and 2238 columns.\n",
      "Aggregator did 7 substitutions.\n",
      "Reduced MIP has 2443 rows, 254 columns, and 5318 nonzeros.\n",
      "Reduced MIP has 205 binaries, 49 generals, 0 SOSs, and 0 indicators.\n",
      "Presolve time = 0.00 sec. (3.49 ticks)\n",
      "Probing fixed 0 vars, tightened 3 bounds.\n",
      "Probing time = 0.00 sec. (0.74 ticks)\n",
      "Cover probing fixed 0 vars, tightened 43 bounds.\n",
      "Tried aggregator 1 time.\n",
      "Detecting symmetries...\n",
      "Reduced MIP has 2443 rows, 254 columns, and 5318 nonzeros.\n",
      "Reduced MIP has 205 binaries, 49 generals, 0 SOSs, and 0 indicators.\n",
      "Presolve time = 0.00 sec. (2.38 ticks)\n",
      "Represolve time = 0.03 sec. (8.69 ticks)\n",
      "Probing fixed 0 vars, tightened 3 bounds.\n",
      "Probing time = 0.00 sec. (0.71 ticks)\n",
      "Cover probing fixed 0 vars, tightened 33 bounds.\n",
      "Clique table members: 196.\n",
      "MIP emphasis: balance optimality and feasibility.\n",
      "MIP search method: dynamic search.\n",
      "Parallel mode: deterministic, using up to 8 threads.\n",
      "Root relaxation solution time = 0.02 sec. (5.73 ticks)\n",
      "\n",
      "        Nodes                                         Cuts/\n",
      "   Node  Left     Objective  IInf  Best Integer    Best Bound    ItCnt     Gap\n",
      "\n",
      "*     0+    0                          172.0000      166.6939             3.08%\n",
      "      0     0      166.2245    40      172.0000      166.6939      315    3.08%\n",
      "      0     0      167.5000    40      172.0000      Cuts: 42      399    2.62%\n",
      "      0     0      168.0000    40      172.0000       Cuts: 9      424    2.33%\n",
      "      0     0      168.0000    40      172.0000   ZeroHalf: 2      426    2.33%\n",
      "*     0+    0                          170.0000      168.0000             1.18%\n",
      "      0     0        cutoff            170.0000      170.0000      426    0.00%\n",
      "Elapsed time = 0.66 sec. (290.55 ticks, tree = 0.01 MB, solutions = 2)\n",
      "\n",
      "Clique cuts applied:  2\n",
      "Zero-half cuts applied:  3\n",
      "Gomory fractional cuts applied:  2\n",
      "\n",
      "Root node processing (before b&c):\n",
      "  Real time             =    0.66 sec. (290.65 ticks)\n",
      "Parallel b&c, 8 threads:\n",
      "  Real time             =    0.00 sec. (0.00 ticks)\n",
      "  Sync time (average)   =    0.00 sec.\n",
      "  Wait time (average)   =    0.00 sec.\n",
      "                          ------------\n",
      "Total (root+branch&cut) =    0.66 sec. (290.65 ticks)\n"
     ]
    },
    {
     "data": {
      "image/png": "[encoded data removed]",
      "text/plain": [
       "<Figure size 720x720 with 1 Axes>"
      ]
     },
     "metadata": {},
     "output_type": "display_data"
    }
   ],
   "source": [
    "solution = mdl.solve(log_output=True) # Solve the TSP problem\n",
    "#print(mdl.export_to_string()) # Export the model to String\n",
    "valor_objetivo = mdl.solution.get_objective_value() # Get the objective value of the final solution\n",
    "x=solution.get_value_dict(x, keep_zeros=True, precision=1) # Update the 'x' dictionary with zero-valued variables\n",
    "graphic(x,C,N) # Visualize the final solution\n",
    "print(\"Objective Value:\",valor_objetivo) # Print the objective value"
   ]
  },
  {
   "cell_type": "markdown",
   "id": "10ef18c9",
   "metadata": {},
   "source": [
    "#### Literature \n",
    "C. E. Miller, A. W. Tucker, and R. A. Zemlin. 1960. Integer Programming Formulation of Traveling Salesman Problems. J. ACM 7, 4 (Oct. 1960), 326–329. https://doi.org/10.1145/321043.321046\n"
   ]
  },
  {
   "cell_type": "code",
   "execution_count": null,
   "id": "64e6c86e",
   "metadata": {},
   "outputs": [],
   "source": []
  }
 ],
 "metadata": {
  "hide_input": false,
  "kernelspec": {
   "display_name": "Python 3",
   "language": "python",
   "name": "python3"
  },
  "language_info": {
   "codemirror_mode": {
    "name": "ipython",
    "version": 3
   },
   "file_extension": ".py",
   "mimetype": "text/x-python",
   "name": "python",
   "nbconvert_exporter": "python",
   "pygments_lexer": "ipython3",
   "version": "3.6.7"
  }
 },
 "nbformat": 4,
 "nbformat_minor": 5
}
