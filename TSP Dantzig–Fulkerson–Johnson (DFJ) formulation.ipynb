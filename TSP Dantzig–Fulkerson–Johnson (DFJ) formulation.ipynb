{
 "cells": [
  {
   "cell_type": "markdown",
   "id": "3ce2420e",
   "metadata": {},
   "source": [
    "## TSP Dantzig–Fulkerson–Johnson (DFJ) formulation"
   ]
  },
  {
   "cell_type": "markdown",
   "id": "ffd96bd5",
   "metadata": {},
   "source": [
    "##### Keywords:  TSP, DFJ, Dantzig–Fulkerson–Johnson, Subtours, Linear Programming, Cplex, Python, Networkx, Docplex"
   ]
  },
  {
   "cell_type": "markdown",
   "id": "61bc44ba",
   "metadata": {},
   "source": [
    "$ \\text{Variables} $\n",
    "\n",
    "$x_{ij}={\\begin{cases}1&{\\text{the path goes from city }}i{\\text{ to city }}j\\\\0&{\\text{otherwise}}\\end{cases}}$"
   ]
  },
  {
   "cell_type": "markdown",
   "id": "c1a74e91",
   "metadata": {},
   "source": [
    "\\begin{equation*}\n",
    "\\begin{aligned}\n",
    "& \\underset{}{\\text{Minimize}}\n",
    "& & \\sum_{i=1}^{n} \\sum_{j=1, j\\neq i}^{n} c_{ij} x_{ij} \\\\\n",
    "& \\text{Subject to}\n",
    "& & \\sum_{j=1, j\\neq i}^{n} x_{ij} = 1, \\quad i = 1,\\ldots,n, \\\\\n",
    "& \n",
    "& & \\sum_{i=1, i\\neq j}^{n} x_{ij} = 1, \\quad j = 1,\\ldots,n, \\\\\n",
    "& \n",
    "& & \\sum_{i \\in Q} \\sum_{j\\neq i, j \\in Q,} x_{ij} \\leq |Q| - 1, \\quad \\forall Q \\subset{1,...,n},|Q| \\ge 2 \\\\\n",
    "&\n",
    "& & x_{ij} \\in \\{0,1\\}, \\quad i,j = 1,\\ldots,n, \\, i\\neq j, \\\\\n",
    "\\end{aligned}\n",
    "\\end{equation*}\n"
   ]
  },
  {
   "cell_type": "markdown",
   "id": "9ece0ac6",
   "metadata": {},
   "source": [
    "#### Import Library and Model Enviroment"
   ]
  },
  {
   "cell_type": "code",
   "execution_count": 1,
   "id": "be618bc2",
   "metadata": {},
   "outputs": [],
   "source": [
    "from docplex.mp.model import Model\n",
    "import networkx as nx   \n",
    "import numpy as np\n",
    "import matplotlib.pyplot as plt\n",
    "mdl=Model('DFJ')"
   ]
  },
  {
   "cell_type": "markdown",
   "id": "7ece8069",
   "metadata": {},
   "source": [
    "#### Function to Visualize the Traveling Salesman Problem (TSP) Graphically"
   ]
  },
  {
   "cell_type": "code",
   "execution_count": 2,
   "id": "8f526ad6",
   "metadata": {},
   "outputs": [],
   "source": [
    "def graphic(x, d, N):\n",
    "    \"\"\"\n",
    "    Function to visualize the Traveling Salesman Problem (TSP) graphically.\n",
    "\n",
    "    Parameters:\n",
    "        x (numpy.ndarray): Distance matrix representing the pairwise distances between cities.\n",
    "        d (list): List of cities with their corresponding distances.\n",
    "        N (range): Range object representing the number of cities.\n",
    "\n",
    "    Returns:\n",
    "        None\n",
    "    \"\"\"\n",
    "\n",
    "    edges = []\n",
    "    for i in N:\n",
    "        for j in N:\n",
    "            if i != j and x[i, j] > 0.5:  # This is a tolerance value, it can be adjusted as needed\n",
    "                edges.append((i, j, d[i - 1][j - 1]))\n",
    "\n",
    "    G = nx.Graph()\n",
    "    for edge in edges:\n",
    "        G.add_edge(edge[0], edge[1], weight=edge[2])\n",
    "\n",
    "    plt.figure(figsize=(10, 10))\n",
    "    pos = nx.spring_layout(G)\n",
    "    nx.draw(G, pos, with_labels=True)\n",
    "    labels = nx.get_edge_attributes(G, 'weight')\n",
    "    nx.draw_networkx_edge_labels(G, pos, edge_labels=labels)\n",
    "    plt.show()\n"
   ]
  },
  {
   "cell_type": "markdown",
   "id": "7135a2ff",
   "metadata": {},
   "source": [
    "#### Create the Matrix of Distances"
   ]
  },
  {
   "cell_type": "code",
   "execution_count": 3,
   "id": "b6db83f8",
   "metadata": {},
   "outputs": [],
   "source": [
    "#Create a Random Matrix\n",
    "C = np.random.randint(1, 100, size=(50, 50))\n",
    "# A_i,i = 0\n",
    "np.fill_diagonal(C, 0)"
   ]
  },
  {
   "cell_type": "markdown",
   "id": "46da9c19",
   "metadata": {},
   "source": [
    "#### Parameters"
   ]
  },
  {
   "cell_type": "code",
   "execution_count": 4,
   "id": "c91a8114",
   "metadata": {},
   "outputs": [],
   "source": [
    "Nodes=len(C)"
   ]
  },
  {
   "cell_type": "markdown",
   "id": "2ebf253d",
   "metadata": {},
   "source": [
    "#### Sets"
   ]
  },
  {
   "cell_type": "code",
   "execution_count": 5,
   "id": "0d76d9b3",
   "metadata": {},
   "outputs": [],
   "source": [
    "N=[i+1 for i in range(Nodes)]"
   ]
  },
  {
   "cell_type": "markdown",
   "id": "b9024532",
   "metadata": {},
   "source": [
    "#### Index"
   ]
  },
  {
   "cell_type": "code",
   "execution_count": 6,
   "id": "0502fcb2",
   "metadata": {},
   "outputs": [],
   "source": [
    "Ind={(i,j) for i in N for j in N if i!=j}"
   ]
  },
  {
   "cell_type": "markdown",
   "id": "8b128766",
   "metadata": {},
   "source": [
    "#### Variables"
   ]
  },
  {
   "cell_type": "code",
   "execution_count": 7,
   "id": "36faf360",
   "metadata": {},
   "outputs": [],
   "source": [
    "x=mdl.binary_var_dict(Ind, name='x')"
   ]
  },
  {
   "cell_type": "markdown",
   "id": "1fbfcf5f",
   "metadata": {},
   "source": [
    "#### Mathematical Model of Traveling Salesman Problem DFJ (TSP DJF)"
   ]
  },
  {
   "cell_type": "markdown",
   "id": "ba726630",
   "metadata": {},
   "source": [
    "#### Objective Function"
   ]
  },
  {
   "cell_type": "code",
   "execution_count": 8,
   "id": "c08114b2",
   "metadata": {},
   "outputs": [],
   "source": [
    "mdl.minimize(mdl.sum(x[i,j]*C[i-1][j-1] for i in N for j in N if i!=j))"
   ]
  },
  {
   "cell_type": "markdown",
   "id": "b05e7330",
   "metadata": {},
   "source": [
    "#### Subject to: "
   ]
  },
  {
   "cell_type": "code",
   "execution_count": 9,
   "id": "ae1417c2",
   "metadata": {
    "scrolled": true
   },
   "outputs": [],
   "source": [
    "for i in N:\n",
    "    mdl.add_constraint(mdl.sum(x[i,j] for j in N if i!=j)==1)"
   ]
  },
  {
   "cell_type": "code",
   "execution_count": 10,
   "id": "f9cd0a5b",
   "metadata": {},
   "outputs": [],
   "source": [
    "for j in N:\n",
    "    mdl.add_constraint(mdl.sum(x[i,j] for i in N if i!=j)==1)"
   ]
  },
  {
   "cell_type": "code",
   "execution_count": 11,
   "id": "677fe055",
   "metadata": {},
   "outputs": [],
   "source": [
    "def find_subtours(sol):\n",
    "    \"\"\"\n",
    "    Function to find subtours in a solution of the Traveling Salesman Problem (TSP).\n",
    "\n",
    "    Parameters:\n",
    "        sol (dict): Solution dictionary representing the TSP solution. The keys are tuples (i, j) representing edges,\n",
    "                    and the values are binary variables indicating if the edge is selected in the solution.\n",
    "    Returns:\n",
    "        subtours (list): List of subtours found in the solution.\n",
    "    \"\"\"\n",
    "\n",
    "    subtours = []  # List to store subtours\n",
    "    remaining_nodes = list(range(1, len(sol) + 1))  # List of remaining nodes to be visited\n",
    "\n",
    "    while len(remaining_nodes) > 0:\n",
    "        subtour = []  # List to store a subtour\n",
    "        subtours.append(subtour)  # Add the subtour to the list of subtours\n",
    "\n",
    "        start = remaining_nodes[0]  # Start the subtour from the first remaining node\n",
    "\n",
    "        while True:\n",
    "            subtour.append(start)  # Add the current node to the subtour\n",
    "\n",
    "            if start in remaining_nodes:\n",
    "                remaining_nodes.remove(start)  # Remove the visited node from the remaining nodes\n",
    "\n",
    "            next_node = next((j for (i, j), value in sol.items() if i == start and value > 0.5), None)\n",
    "\n",
    "            # Find the next node in the solution that is connected to the current node and has not been visited yet\n",
    "            # The value 0.5 is used as a threshold to consider an edge selected in the solution\n",
    "\n",
    "            if next_node is None or next_node not in remaining_nodes:\n",
    "                break  # If there is no next node or the next node has already been visited, end the subtour\n",
    "\n",
    "            start = next_node  # Move to the next node in the subtour\n",
    "\n",
    "    return subtours"
   ]
  },
  {
   "cell_type": "markdown",
   "id": "6a8a4c3a",
   "metadata": {},
   "source": [
    "#### Solve the Treveling Salesman Problem DFJ"
   ]
  },
  {
   "cell_type": "code",
   "execution_count": 12,
   "id": "fb989c70",
   "metadata": {
    "scrolled": true
   },
   "outputs": [
    {
     "name": "stdout",
     "output_type": "stream",
     "text": [
      "Version identifier: 12.10.0.0 | 2019-11-26 | 843d4de2ae\n",
      "CPXPARAM_Read_DataCheck                          1\n",
      "CPXPARAM_RandomSeed                              201903125\n",
      "Found incumbent of value 2501.000000 after 0.00 sec. (0.18 ticks)\n",
      "Found incumbent of value 319.000000 after 0.00 sec. (0.25 ticks)\n",
      "Tried aggregator 1 time.\n",
      "Reduced MIP has 100 rows, 2450 columns, and 4900 nonzeros.\n",
      "Reduced MIP has 2450 binaries, 0 generals, 0 SOSs, and 0 indicators.\n",
      "Presolve time = 0.02 sec. (3.13 ticks)\n",
      "Tried aggregator 1 time.\n",
      "Detecting symmetries...\n",
      "Reduced MIP has 100 rows, 2450 columns, and 4900 nonzeros.\n",
      "Reduced MIP has 2450 binaries, 0 generals, 0 SOSs, and 0 indicators.\n",
      "Presolve time = 0.00 sec. (3.61 ticks)\n",
      "Probing time = 0.00 sec. (2.93 ticks)\n",
      "Clique table members: 100.\n",
      "MIP emphasis: balance optimality and feasibility.\n",
      "MIP search method: dynamic search.\n",
      "Parallel mode: deterministic, using up to 8 threads.\n",
      "Root relaxation solution time = 0.00 sec. (1.36 ticks)\n",
      "\n",
      "        Nodes                                         Cuts/\n",
      "   Node  Left     Objective  IInf  Best Integer    Best Bound    ItCnt     Gap\n",
      "\n",
      "*     0+    0                          319.0000        0.0000           100.00%\n",
      "*     0+    0                          304.0000        0.0000           100.00%\n",
      "*     0+    0                          251.0000        0.0000           100.00%\n",
      "*     0     0      integral     0      156.0000      156.0000       37    0.00%\n",
      "Elapsed time = 0.08 sec. (14.80 ticks, tree = 0.00 MB, solutions = 4)\n",
      "\n",
      "Root node processing (before b&c):\n",
      "  Real time             =    0.09 sec. (14.94 ticks)\n",
      "Parallel b&c, 8 threads:\n",
      "  Real time             =    0.00 sec. (0.00 ticks)\n",
      "  Sync time (average)   =    0.00 sec.\n",
      "  Wait time (average)   =    0.00 sec.\n",
      "                          ------------\n",
      "Total (root+branch&cut) =    0.09 sec. (14.94 ticks)\n",
      "The subtours are: [[1, 28, 23, 21, 47, 33, 24, 14, 4, 2, 37, 3, 25, 49, 19, 8, 50, 15, 27, 41, 20, 48, 10, 42, 32, 7, 31, 46, 45, 12, 17, 30, 44, 36, 39, 16, 26, 38, 11, 34, 29, 40, 18, 22, 43, 13, 5], [6, 9, 35]]\n",
      "Version identifier: 12.10.0.0 | 2019-11-26 | 843d4de2ae\n",
      "CPXPARAM_Read_DataCheck                          1\n",
      "CPXPARAM_RandomSeed                              201903125\n",
      "4 of 5 MIP starts provided solutions.\n",
      "MIP start 'm3' defined initial solution with objective 251.0000.\n",
      "Retaining values of one MIP start for possible repair.\n",
      "Tried aggregator 1 time.\n",
      "Reduced MIP has 102 rows, 2450 columns, and 7068 nonzeros.\n",
      "Reduced MIP has 2450 binaries, 0 generals, 0 SOSs, and 0 indicators.\n",
      "Presolve time = 0.02 sec. (4.60 ticks)\n",
      "Tried aggregator 1 time.\n",
      "Detecting symmetries...\n",
      "Reduced MIP has 102 rows, 2450 columns, and 7068 nonzeros.\n",
      "Reduced MIP has 2450 binaries, 0 generals, 0 SOSs, and 0 indicators.\n",
      "Presolve time = 0.00 sec. (5.20 ticks)\n",
      "Probing time = 0.00 sec. (2.86 ticks)\n",
      "Clique table members: 100.\n",
      "MIP emphasis: balance optimality and feasibility.\n",
      "MIP search method: dynamic search.\n",
      "Parallel mode: deterministic, using up to 8 threads.\n",
      "Root relaxation solution time = 0.00 sec. (1.51 ticks)\n",
      "\n",
      "        Nodes                                         Cuts/\n",
      "   Node  Left     Objective  IInf  Best Integer    Best Bound    ItCnt     Gap\n",
      "\n",
      "*     0+    0                          251.0000        0.0000           100.00%\n",
      "*     0+    0                          248.0000        0.0000           100.00%\n",
      "*     0+    0                          241.0000        0.0000           100.00%\n",
      "*     0     0      integral     0      156.0000      156.0000       38    0.00%\n",
      "Elapsed time = 0.06 sec. (19.73 ticks, tree = 0.00 MB, solutions = 7)\n",
      "\n",
      "Root node processing (before b&c):\n",
      "  Real time             =    0.06 sec. (19.92 ticks)\n",
      "Parallel b&c, 8 threads:\n",
      "  Real time             =    0.00 sec. (0.00 ticks)\n",
      "  Sync time (average)   =    0.00 sec.\n",
      "  Wait time (average)   =    0.00 sec.\n",
      "                          ------------\n",
      "Total (root+branch&cut) =    0.06 sec. (19.92 ticks)\n",
      "The subtours are: [[1, 28, 23, 4, 2, 37, 42, 32, 7], [3, 25, 49, 19, 8, 50, 15, 35, 6, 9, 14, 31, 46, 45, 12, 17, 30, 44, 24, 21, 47, 33, 27, 41, 20, 48, 10, 36, 39, 16, 26, 38, 11, 34, 29, 40, 18, 22, 43, 13, 5]]\n",
      "Version identifier: 12.10.0.0 | 2019-11-26 | 843d4de2ae\n",
      "CPXPARAM_Read_DataCheck                          1\n",
      "CPXPARAM_RandomSeed                              201903125\n",
      "5 of 7 MIP starts provided solutions.\n",
      "MIP start 'm6' defined initial solution with objective 241.0000.\n",
      "Retaining values of one MIP start for possible repair.\n",
      "Tried aggregator 1 time.\n",
      "Reduced MIP has 104 rows, 2450 columns, and 8780 nonzeros.\n",
      "Reduced MIP has 2450 binaries, 0 generals, 0 SOSs, and 0 indicators.\n",
      "Presolve time = 0.02 sec. (5.20 ticks)\n",
      "Tried aggregator 1 time.\n",
      "Detecting symmetries...\n",
      "Reduced MIP has 104 rows, 2450 columns, and 8780 nonzeros.\n",
      "Reduced MIP has 2450 binaries, 0 generals, 0 SOSs, and 0 indicators.\n",
      "Presolve time = 0.00 sec. (5.89 ticks)\n",
      "Probing time = 0.00 sec. (2.86 ticks)\n",
      "Clique table members: 100.\n",
      "MIP emphasis: balance optimality and feasibility.\n",
      "MIP search method: dynamic search.\n",
      "Parallel mode: deterministic, using up to 8 threads.\n",
      "Root relaxation solution time = 0.02 sec. (1.70 ticks)\n",
      "\n",
      "        Nodes                                         Cuts/\n",
      "   Node  Left     Objective  IInf  Best Integer    Best Bound    ItCnt     Gap\n",
      "\n",
      "*     0+    0                          241.0000        0.0000           100.00%\n",
      "*     0+    0                          235.0000        0.0000           100.00%\n",
      "*     0+    0                          231.0000        0.0000           100.00%\n",
      "      0     0      156.0000    14      231.0000      156.0000       37   32.47%\n",
      "*     0+    0                          157.0000      156.0000             0.64%\n",
      "*     0+    0                          156.0000      156.0000             0.00%\n",
      "      0     0        cutoff            156.0000      156.0000       38    0.00%\n",
      "Elapsed time = 0.06 sec. (26.09 ticks, tree = 0.01 MB, solutions = 9)\n",
      "\n",
      "Root node processing (before b&c):\n",
      "  Real time             =    0.08 sec. (26.31 ticks)\n",
      "Parallel b&c, 8 threads:\n",
      "  Real time             =    0.00 sec. (0.00 ticks)\n",
      "  Sync time (average)   =    0.00 sec.\n",
      "  Wait time (average)   =    0.00 sec.\n",
      "                          ------------\n",
      "Total (root+branch&cut) =    0.08 sec. (26.31 ticks)\n",
      "The subtours are: [[1, 28, 23, 11, 34, 29, 40, 18, 22, 43, 13, 5], [2, 37, 3, 25, 49, 19, 8, 50, 15, 35, 6, 9, 14, 4], [7, 31, 46, 45, 12, 17, 30, 44, 24, 21, 47, 33, 27, 41, 20, 48, 10, 42, 32], [16, 26, 38, 36, 39]]\n",
      "Version identifier: 12.10.0.0 | 2019-11-26 | 843d4de2ae\n",
      "CPXPARAM_Read_DataCheck                          1\n",
      "CPXPARAM_RandomSeed                              201903125\n",
      "7 of 9 MIP starts provided solutions.\n",
      "MIP start 'm8' defined initial solution with objective 157.0000.\n",
      "Retaining values of one MIP start for possible repair.\n",
      "Tried aggregator 1 time.\n",
      "Reduced MIP has 108 rows, 2450 columns, and 9456 nonzeros.\n",
      "Reduced MIP has 2450 binaries, 0 generals, 0 SOSs, and 0 indicators.\n",
      "Presolve time = 0.02 sec. (5.17 ticks)\n",
      "Tried aggregator 1 time.\n",
      "Detecting symmetries...\n",
      "Reduced MIP has 108 rows, 2450 columns, and 9456 nonzeros.\n",
      "Reduced MIP has 2450 binaries, 0 generals, 0 SOSs, and 0 indicators.\n",
      "Presolve time = 0.00 sec. (5.88 ticks)\n",
      "Probing time = 0.00 sec. (2.87 ticks)\n",
      "Clique table members: 100.\n",
      "MIP emphasis: balance optimality and feasibility.\n",
      "MIP search method: dynamic search.\n",
      "Parallel mode: deterministic, using up to 8 threads.\n",
      "Root relaxation solution time = 0.02 sec. (2.34 ticks)\n",
      "\n",
      "        Nodes                                         Cuts/\n",
      "   Node  Left     Objective  IInf  Best Integer    Best Bound    ItCnt     Gap\n",
      "\n",
      "*     0+    0                          157.0000        0.0000           100.00%\n",
      "      0     0      156.6000    29      157.0000      156.6000       52    0.25%\n",
      "      0     0        cutoff            157.0000      156.6000       52    0.25%\n",
      "Elapsed time = 0.06 sec. (24.74 ticks, tree = 0.01 MB, solutions = 7)\n",
      "\n",
      "Root node processing (before b&c):\n",
      "  Real time             =    0.06 sec. (24.93 ticks)\n",
      "Parallel b&c, 8 threads:\n",
      "  Real time             =    0.00 sec. (0.00 ticks)\n",
      "  Sync time (average)   =    0.00 sec.\n",
      "  Wait time (average)   =    0.00 sec.\n",
      "                          ------------\n",
      "Total (root+branch&cut) =    0.06 sec. (24.93 ticks)\n"
     ]
    },
    {
     "name": "stdout",
     "output_type": "stream",
     "text": [
      "The subtours are: [[1, 28, 23, 4, 2, 50, 15, 35, 6, 9, 14, 31, 46, 45, 12, 17, 30, 44, 24, 21, 47, 33, 27, 41, 20, 48, 10, 36, 39, 16, 26, 38, 11, 34, 29, 40, 18, 22, 43, 13, 5, 3, 25, 49, 19, 8, 37, 42, 32, 7]]\n",
      "solution for: modelo\n",
      "objective: 157\n",
      "x_25_49=1\n",
      "x_24_21=1\n",
      "x_28_23=1\n",
      "x_37_42=1\n",
      "x_17_30=1\n",
      "x_45_12=1\n",
      "x_6_9=1\n",
      "x_43_13=1\n",
      "x_13_5=1\n",
      "x_41_20=1\n",
      "x_39_16=1\n",
      "x_47_33=1\n",
      "x_32_7=1\n",
      "x_5_3=1\n",
      "x_14_31=1\n",
      "x_12_17=1\n",
      "x_19_8=1\n",
      "x_15_35=1\n",
      "x_49_19=1\n",
      "x_33_27=1\n",
      "x_3_25=1\n",
      "x_40_18=1\n",
      "x_9_14=1\n",
      "x_26_38=1\n",
      "x_7_1=1\n",
      "x_4_2=1\n",
      "x_23_4=1\n",
      "x_27_41=1\n",
      "x_35_6=1\n",
      "x_1_28=1\n",
      "x_10_36=1\n",
      "x_18_22=1\n",
      "x_31_46=1\n",
      "x_20_48=1\n",
      "x_36_39=1\n",
      "x_29_40=1\n",
      "x_16_26=1\n",
      "x_2_50=1\n",
      "x_50_15=1\n",
      "x_38_11=1\n",
      "x_46_45=1\n",
      "x_42_32=1\n",
      "x_48_10=1\n",
      "x_11_34=1\n",
      "x_8_37=1\n",
      "x_44_24=1\n",
      "x_21_47=1\n",
      "x_34_29=1\n",
      "x_22_43=1\n",
      "x_30_44=1\n",
      "\n",
      "Version identifier: 12.10.0.0 | 2019-11-26 | 843d4de2ae\n",
      "CPXPARAM_Read_DataCheck                          1\n",
      "CPXPARAM_RandomSeed                              201903125\n",
      "7 of 7 MIP starts provided solutions.\n",
      "MIP start 'm1' defined initial solution with objective 157.0000.\n",
      "Tried aggregator 1 time.\n",
      "Reduced MIP has 108 rows, 2450 columns, and 9456 nonzeros.\n",
      "Reduced MIP has 2450 binaries, 0 generals, 0 SOSs, and 0 indicators.\n",
      "Presolve time = 0.02 sec. (5.17 ticks)\n",
      "Tried aggregator 1 time.\n",
      "Detecting symmetries...\n",
      "Reduced MIP has 108 rows, 2450 columns, and 9456 nonzeros.\n",
      "Reduced MIP has 2450 binaries, 0 generals, 0 SOSs, and 0 indicators.\n",
      "Presolve time = 0.00 sec. (5.88 ticks)\n",
      "Probing time = 0.00 sec. (2.87 ticks)\n",
      "Clique table members: 100.\n",
      "MIP emphasis: balance optimality and feasibility.\n",
      "MIP search method: dynamic search.\n",
      "Parallel mode: deterministic, using up to 8 threads.\n",
      "Root relaxation solution time = 0.02 sec. (2.34 ticks)\n",
      "\n",
      "        Nodes                                         Cuts/\n",
      "   Node  Left     Objective  IInf  Best Integer    Best Bound    ItCnt     Gap\n",
      "\n",
      "*     0+    0                          157.0000        0.0000           100.00%\n",
      "      0     0      156.6000    29      157.0000      156.6000       52    0.25%\n",
      "      0     0        cutoff            157.0000      156.6000       52    0.25%\n",
      "Elapsed time = 0.06 sec. (24.11 ticks, tree = 0.01 MB, solutions = 7)\n",
      "\n",
      "Root node processing (before b&c):\n",
      "  Real time             =    0.06 sec. (24.30 ticks)\n",
      "Parallel b&c, 8 threads:\n",
      "  Real time             =    0.00 sec. (0.00 ticks)\n",
      "  Sync time (average)   =    0.00 sec.\n",
      "  Wait time (average)   =    0.00 sec.\n",
      "                          ------------\n",
      "Total (root+branch&cut) =    0.06 sec. (24.30 ticks)\n"
     ]
    },
    {
     "data": {
      "image/png": "[encoded data removed]",
      "text/plain": [
       "<Figure size 720x720 with 1 Axes>"
      ]
     },
     "metadata": {},
     "output_type": "display_data"
    },
    {
     "name": "stdout",
     "output_type": "stream",
     "text": [
      "Objective Value: 157\n"
     ]
    }
   ],
   "source": [
    "while True:\n",
    "    solution = mdl.solve(log_output=True)  # Solve the TSP problem\n",
    "    if solution is None:\n",
    "        print(\"No solution found\")  # Print a message if no solution is found\n",
    "        break\n",
    "    \n",
    "    sol = solution.get_value_dict(x, keep_zeros=False)  # Get the solution as a dictionary\n",
    "    subtours = find_subtours(sol)  # Find subtours in the solution\n",
    "    print(\"The subtours are:\", subtours)  # Print the subtours\n",
    "    \n",
    "    if len(subtours) > 1:  # If there are more than one subtour\n",
    "        for subtour in subtours:\n",
    "            if len(subtour) < Nodes:  # If the subtour is not the full tour\n",
    "                mdl.add_constraint(mdl.sum(x[i, j] for i in subtour for j in subtour if i != j) <= len(subtour) - 1)\n",
    "                # Add a constraint to eliminate the subtour by limiting the total number of edges within the subtour\n",
    "    else:\n",
    "        break  # Break the loop if there is only one subtour or no subtour\n",
    "    \n",
    "print(solution)  # Print the final solution\n",
    "\n",
    "solution = mdl.solve(log_output=True)  # Solve the TSP problem again with the final solution\n",
    "objective_value = mdl.solution.get_objective_value()  # Get the objective value of the final solution\n",
    "x = solution.get_value_dict(x, keep_zeros=True, precision=1)  # Update the 'x' dictionary with zero-valued variables\n",
    "\n",
    "graphic(x, C, N)  # Visualize the final solution\n",
    "\n",
    "print(\"Objective Value:\", objective_value)  # Print the objective value"
   ]
  },
  {
   "cell_type": "markdown",
   "id": "1a80f44f",
   "metadata": {},
   "source": [
    "#### Literature\n",
    "\n",
    "Dantzig, G., Fulkerson, R., & Johnson, S. (1954). Solution of a Large-Scale Traveling-Salesman Problem. Journal of the Operations Research Society of America, 2(4), 393–410. http://www.jstor.org/stable/166695"
   ]
  },
  {
   "cell_type": "code",
   "execution_count": null,
   "id": "9a2d968b",
   "metadata": {},
   "outputs": [],
   "source": []
  }
 ],
 "metadata": {
  "hide_input": false,
  "kernelspec": {
   "display_name": "Python 3",
   "language": "python",
   "name": "python3"
  },
  "language_info": {
   "codemirror_mode": {
    "name": "ipython",
    "version": 3
   },
   "file_extension": ".py",
   "mimetype": "text/x-python",
   "name": "python",
   "nbconvert_exporter": "python",
   "pygments_lexer": "ipython3",
   "version": "3.6.7"
  }
 },
 "nbformat": 4,
 "nbformat_minor": 5
}
