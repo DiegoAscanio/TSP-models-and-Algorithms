{
 "cells": [
  {
   "cell_type": "markdown",
   "id": "ec840b0d",
   "metadata": {},
   "source": [
    "## TSP Gavish-Graves (GG) Formulation"
   ]
  },
  {
   "cell_type": "markdown",
   "id": "d47514cb",
   "metadata": {},
   "source": [
    "##### Keywords:  TSP, GG, Gavish-Graves, Subtours, Linear Programming, Cplex, Python, Networkx, Docplex, Flow Constraint"
   ]
  },
  {
   "cell_type": "markdown",
   "id": "61bc44ba",
   "metadata": {},
   "source": [
    "$ Variables $\n",
    "\n",
    "$x_{ij}={\\begin{cases}1&{\\text{the path goes from city }}i{\\text{ to city }}j\\\\0&{\\text{otherwise}}\\end{cases}}$\n",
    "\n",
    "$g_{ij}= \\text{The number of arcs on the path from vertex 1 to arc (i, j) in the optimal tour} $ \n"
   ]
  },
  {
   "cell_type": "markdown",
   "id": "c62ccbd0",
   "metadata": {},
   "source": [
    "\\begin{equation*}\n",
    "\\begin{aligned}\n",
    "& \\underset{}{\\text{Minimize}}\n",
    "& & \\sum_{i=1}^{n} \\sum_{j=1, j\\neq i}^{n} c_{ij} x_{ij} \\\\\n",
    "& \\text{Subject to}\n",
    "& & \\sum_{j=1, j\\neq i}^{n} x_{ij} = 1, \\quad i = 1,\\ldots,n, \\\\\n",
    "& \n",
    "& & \\sum_{i=1, i\\neq j}^{n} x_{ij} = 1, \\quad j = 1,\\ldots,n, \\\\\n",
    "& \n",
    "& & \\sum_{j=1}^n g_{ij} - \\sum_{j=2}^n g_{ji} = 1, \\quad j = 2,\\ldots,n,\\\\\n",
    "&\n",
    "& & 0 \\leq g_{ij} \\leq ( n - 1 ) x_{ij}, \\quad j = 2,\\ldots,n,\\\\\n",
    "&\n",
    "& & x_{ij} \\in \\{0,1\\}, \\quad i,j = 1,\\ldots,n, \\, i\\neq j, \\\\\n",
    "&\n",
    "& & g_{ij} \\ge 0, \\quad i, j = 1,\\ldots,n,\\, i\\neq j. \\\\\n",
    "\\end{aligned}\n",
    "\\end{equation*}\n"
   ]
  },
  {
   "cell_type": "markdown",
   "id": "f4a9aaf1",
   "metadata": {},
   "source": [
    "#### Import Library and Model Enviroment"
   ]
  },
  {
   "cell_type": "code",
   "execution_count": 1,
   "id": "be618bc2",
   "metadata": {},
   "outputs": [],
   "source": [
    "from docplex.mp.model import Model\n",
    "import networkx as nx   \n",
    "import numpy as np\n",
    "import matplotlib.pyplot as plt\n",
    "mdl=Model('GG')"
   ]
  },
  {
   "cell_type": "markdown",
   "id": "58fc1eca",
   "metadata": {},
   "source": [
    "#### Function to Visualize the Traveling Salesman Problem (TSP) Graphically"
   ]
  },
  {
   "cell_type": "code",
   "execution_count": 2,
   "id": "8f526ad6",
   "metadata": {},
   "outputs": [],
   "source": [
    "def graphic(x, d, N):\n",
    "    \"\"\"\n",
    "    Function to visualize the Traveling Salesman Problem (TSP) graphically.\n",
    "\n",
    "    Parameters:\n",
    "        x (numpy.ndarray): Distance matrix representing the pairwise distances between cities.\n",
    "        d (list): List of cities with their corresponding distances.\n",
    "        N (range): Range object representing the number of cities.\n",
    "\n",
    "    Returns:\n",
    "        None\n",
    "    \"\"\"\n",
    "\n",
    "    edges = []\n",
    "    for i in N:\n",
    "        for j in N:\n",
    "            if i != j and x[i, j] > 0.5:  # This is a tolerance value, it can be adjusted as needed\n",
    "                edges.append((i, j, d[i - 1][j - 1]))\n",
    "\n",
    "    G = nx.Graph()\n",
    "    for edge in edges:\n",
    "        G.add_edge(edge[0], edge[1], weight=edge[2])\n",
    "\n",
    "    plt.figure(figsize=(10, 10))\n",
    "    pos = nx.spring_layout(G)\n",
    "    nx.draw(G, pos, with_labels=True)\n",
    "    labels = nx.get_edge_attributes(G, 'weight')\n",
    "    nx.draw_networkx_edge_labels(G, pos, edge_labels=labels)\n",
    "    plt.show()\n"
   ]
  },
  {
   "cell_type": "markdown",
   "id": "9d61d4f7",
   "metadata": {},
   "source": [
    "#### Create the Matrix of Distances"
   ]
  },
  {
   "cell_type": "code",
   "execution_count": 3,
   "id": "b6db83f8",
   "metadata": {},
   "outputs": [],
   "source": [
    "C = np.random.randint(1, 100, size=(50, 50))\n",
    "# A_i,i = 0\n",
    "np.fill_diagonal(C, 0)"
   ]
  },
  {
   "cell_type": "markdown",
   "id": "6b2391ab",
   "metadata": {},
   "source": [
    "#### Parameters"
   ]
  },
  {
   "cell_type": "code",
   "execution_count": 4,
   "id": "c91a8114",
   "metadata": {},
   "outputs": [],
   "source": [
    "n=len(C)"
   ]
  },
  {
   "cell_type": "markdown",
   "id": "b7e86774",
   "metadata": {},
   "source": [
    "#### Sets"
   ]
  },
  {
   "cell_type": "code",
   "execution_count": 5,
   "id": "0d76d9b3",
   "metadata": {
    "scrolled": true
   },
   "outputs": [],
   "source": [
    "N=[i+1 for i in range(n)]"
   ]
  },
  {
   "cell_type": "markdown",
   "id": "e016faec",
   "metadata": {},
   "source": [
    "#### Index"
   ]
  },
  {
   "cell_type": "code",
   "execution_count": 6,
   "id": "0502fcb2",
   "metadata": {},
   "outputs": [],
   "source": [
    "Ind={(i,j) for i in N for j in N if i!=j}#x\n",
    "Ind2={(i,j) for i in N for j in N if i!=j}#g"
   ]
  },
  {
   "cell_type": "markdown",
   "id": "39d6e85d",
   "metadata": {},
   "source": [
    "#### Variables"
   ]
  },
  {
   "cell_type": "code",
   "execution_count": 7,
   "id": "36faf360",
   "metadata": {},
   "outputs": [],
   "source": [
    "x=mdl.binary_var_dict(Ind, name='x')\n",
    "g=mdl.continuous_var_dict(Ind2, name='g')"
   ]
  },
  {
   "cell_type": "markdown",
   "id": "4f460a50",
   "metadata": {},
   "source": [
    "#### Mathematical Model of Traveling Salesman Problem GG (TSP GG)"
   ]
  },
  {
   "cell_type": "markdown",
   "id": "5efe5dbf",
   "metadata": {},
   "source": [
    "#### Objective Function"
   ]
  },
  {
   "cell_type": "code",
   "execution_count": 8,
   "id": "c08114b2",
   "metadata": {},
   "outputs": [],
   "source": [
    "mdl.minimize(mdl.sum(x[i,j]*C[i-1][j-1] for i in N for j in N if i!=j))"
   ]
  },
  {
   "cell_type": "markdown",
   "id": "e0710248",
   "metadata": {},
   "source": [
    "#### Subject to"
   ]
  },
  {
   "cell_type": "code",
   "execution_count": 9,
   "id": "ae1417c2",
   "metadata": {
    "scrolled": true
   },
   "outputs": [],
   "source": [
    "for i in N:\n",
    "    mdl.add_constraint(mdl.sum(x[i,j] for j in N if i!=j)==1)"
   ]
  },
  {
   "cell_type": "code",
   "execution_count": 10,
   "id": "f9cd0a5b",
   "metadata": {},
   "outputs": [],
   "source": [
    "for j in N:\n",
    "    mdl.add_constraint(mdl.sum(x[i,j] for i in N if i!=j)==1)"
   ]
  },
  {
   "cell_type": "code",
   "execution_count": 11,
   "id": "deed687d",
   "metadata": {},
   "outputs": [],
   "source": [
    "for i in range(2,n+1):\n",
    "    mdl.add_constraint(mdl.sum(g[i,j] for j in N if i!=j)-mdl.sum(g[j,i] for j in range(2,n+1) if i!=j)==1)"
   ]
  },
  {
   "cell_type": "code",
   "execution_count": 12,
   "id": "46bdc088",
   "metadata": {},
   "outputs": [],
   "source": [
    "for i in N:\n",
    "    for j in N:\n",
    "        if i!=j:\n",
    "            mdl.add_constraint(g[i,j]<=(n-1)*x[i,j])"
   ]
  },
  {
   "cell_type": "code",
   "execution_count": 13,
   "id": "fb989c70",
   "metadata": {
    "scrolled": true
   },
   "outputs": [
    {
     "name": "stdout",
     "output_type": "stream",
     "text": [
      "Version identifier: 12.10.0.0 | 2019-11-26 | 843d4de2ae\n",
      "CPXPARAM_Read_DataCheck                          1\n",
      "CPXPARAM_RandomSeed                              201903125\n",
      "Tried aggregator 1 time.\n",
      "MIP Presolve eliminated 49 rows and 49 columns.\n",
      "Reduced MIP has 2550 rows, 4851 columns, and 14455 nonzeros.\n",
      "Reduced MIP has 2450 binaries, 0 generals, 0 SOSs, and 0 indicators.\n",
      "Presolve time = 0.02 sec. (7.41 ticks)\n",
      "Found incumbent of value 2716.000000 after 0.03 sec. (21.92 ticks)\n",
      "Probing time = 0.02 sec. (4.89 ticks)\n",
      "Tried aggregator 1 time.\n",
      "Detecting symmetries...\n",
      "Reduced MIP has 2550 rows, 4851 columns, and 14455 nonzeros.\n",
      "Reduced MIP has 2450 binaries, 0 generals, 0 SOSs, and 0 indicators.\n",
      "Presolve time = 0.02 sec. (9.40 ticks)\n",
      "Probing time = 0.02 sec. (4.41 ticks)\n",
      "Clique table members: 100.\n",
      "MIP emphasis: balance optimality and feasibility.\n",
      "MIP search method: dynamic search.\n",
      "Parallel mode: deterministic, using up to 8 threads.\n",
      "Root relaxation solution time = 0.08 sec. (118.14 ticks)\n",
      "\n",
      "        Nodes                                         Cuts/\n",
      "   Node  Left     Objective  IInf  Best Integer    Best Bound    ItCnt     Gap\n",
      "\n",
      "*     0+    0                         2716.0000        0.0000           100.00%\n",
      "      0     0      189.2857    23     2716.0000      189.2857     1294   93.03%\n",
      "*     0+    0                          601.0000      189.2857            68.50%\n",
      "      0     0      194.2500    23      601.0000      Cuts: 20     2039   67.68%\n",
      "*     0+    0                          205.0000      194.2500             5.24%\n",
      "      0     0      195.0000    23      205.0000      Cuts: 61     2244    4.88%\n",
      "Detecting symmetries...\n",
      "\n",
      "Repeating presolve.\n",
      "Tried aggregator 2 times.\n",
      "MIP Presolve eliminated 2094 rows and 4230 columns.\n",
      "Aggregator did 3 substitutions.\n",
      "Reduced MIP has 453 rows, 618 columns, and 1848 nonzeros.\n",
      "Reduced MIP has 311 binaries, 0 generals, 0 SOSs, and 0 indicators.\n",
      "Presolve time = 0.02 sec. (3.39 ticks)\n",
      "Probing fixed 0 vars, tightened 6 bounds.\n",
      "Probing time = 0.00 sec. (1.07 ticks)\n",
      "Cover probing fixed 0 vars, tightened 298 bounds.\n",
      "Tried aggregator 1 time.\n",
      "Detecting symmetries...\n",
      "MIP Presolve modified 306 coefficients.\n",
      "Reduced MIP has 453 rows, 618 columns, and 1848 nonzeros.\n",
      "Reduced MIP has 311 binaries, 0 generals, 0 SOSs, and 0 indicators.\n",
      "Presolve time = 0.02 sec. (1.19 ticks)\n",
      "Represolve time = 0.03 sec. (10.43 ticks)\n",
      "Probing fixed 0 vars, tightened 6 bounds.\n",
      "Probing time = 0.00 sec. (1.06 ticks)\n",
      "Cover probing fixed 0 vars, tightened 283 bounds.\n",
      "Clique table members: 174.\n",
      "MIP emphasis: balance optimality and feasibility.\n",
      "MIP search method: dynamic search.\n",
      "Parallel mode: deterministic, using up to 8 threads.\n",
      "Root relaxation solution time = 0.02 sec. (8.33 ticks)\n",
      "\n",
      "        Nodes                                         Cuts/\n",
      "   Node  Left     Objective  IInf  Best Integer    Best Bound    ItCnt     Gap\n",
      "\n",
      "*     0+    0                          205.0000      195.0000             4.88%\n",
      "      0     0      195.0000    50      205.0000      195.0000     2793    4.88%\n",
      "*     0+    0                          197.0000      195.0000             1.02%\n",
      "      0     0        cutoff            197.0000      197.0000     2998    0.00%\n",
      "Elapsed time = 1.06 sec. (721.34 ticks, tree = 0.01 MB, solutions = 4)\n",
      "\n",
      "Cover cuts applied:  5\n",
      "Implied bound cuts applied:  5\n",
      "Flow cuts applied:  38\n",
      "Mixed integer rounding cuts applied:  1\n",
      "Zero-half cuts applied:  2\n",
      "Gomory fractional cuts applied:  2\n",
      "\n",
      "Root node processing (before b&c):\n",
      "  Real time             =    1.08 sec. (721.58 ticks)\n",
      "Parallel b&c, 8 threads:\n",
      "  Real time             =    0.00 sec. (0.00 ticks)\n",
      "  Sync time (average)   =    0.00 sec.\n",
      "  Wait time (average)   =    0.00 sec.\n",
      "                          ------------\n",
      "Total (root+branch&cut) =    1.08 sec. (721.58 ticks)\n"
     ]
    },
    {
     "data": {
      "image/png": "[encoded data removed]",
      "text/plain": [
       "<Figure size 720x720 with 1 Axes>"
      ]
     },
     "metadata": {},
     "output_type": "display_data"
    },
    {
     "name": "stdout",
     "output_type": "stream",
     "text": [
      "Objective Value: 197\n"
     ]
    }
   ],
   "source": [
    "solution = mdl.solve(log_output=True) # Solve the TSP problem\n",
    "#print(mdl.export_to_string()) # Export the model to String\n",
    "valor_objetivo = mdl.solution.get_objective_value() # Get the objective value of the final solution\n",
    "x=solution.get_value_dict(x, keep_zeros=True, precision=1) # Update the 'x' dictionary with zero-valued variables\n",
    "graphic(x,C,N) # Visualize the final solution\n",
    "print(\"Objective Value:\",valor_objetivo) # Print the objective value"
   ]
  },
  {
   "cell_type": "markdown",
   "id": "a9d44fd4",
   "metadata": {},
   "source": [
    "#### Literature \n",
    "\n",
    "Gavish B, Graves S (1978) The travelling salesman problem and related problems, working Paper GR-078-78. Operations Research Center, Massachusetts Institute of Technology, Cambridge\n"
   ]
  },
  {
   "cell_type": "code",
   "execution_count": null,
   "id": "64e6c86e",
   "metadata": {},
   "outputs": [],
   "source": []
  }
 ],
 "metadata": {
  "hide_input": false,
  "kernelspec": {
   "display_name": "Python 3",
   "language": "python",
   "name": "python3"
  },
  "language_info": {
   "codemirror_mode": {
    "name": "ipython",
    "version": 3
   },
   "file_extension": ".py",
   "mimetype": "text/x-python",
   "name": "python",
   "nbconvert_exporter": "python",
   "pygments_lexer": "ipython3",
   "version": "3.6.7"
  }
 },
 "nbformat": 4,
 "nbformat_minor": 5
}
